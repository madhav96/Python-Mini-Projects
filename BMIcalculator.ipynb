{
 "cells": [
  {
   "cell_type": "code",
   "execution_count": null,
   "metadata": {},
   "outputs": [],
   "source": [
    "height= float(input(\"Please enter your height in m :\"))\n",
    "weight = float(input(\"Enter your weight in kg :\"))\n",
    "\n",
    "bmi = int(weight/height**2)\n",
    "print(f\"Your BMI is : {bmi}\")\n",
    "if bmi < 18.5:\n",
    "    print(\"underweight\")\n",
    "elif 18.5 < bmi < 25:\n",
    "    print(\"Normal weight\") \n",
    "elif 25 < bmi < 30:\n",
    "    print(\"Overweight\") \n",
    "elif 30 < bmi < 35:\n",
    "    print(\"Obese\") \n",
    "else:\n",
    "    print(\"Clinically Obese\")"
   ]
  },
  {
   "cell_type": "code",
   "execution_count": null,
   "metadata": {},
   "outputs": [],
   "source": []
  }
 ],
 "metadata": {
  "kernelspec": {
   "display_name": "minimal_ds",
   "language": "python",
   "name": "python3"
  },
  "language_info": {
   "codemirror_mode": {
    "name": "ipython",
    "version": 3
   },
   "file_extension": ".py",
   "mimetype": "text/x-python",
   "name": "python",
   "nbconvert_exporter": "python",
   "pygments_lexer": "ipython3",
   "version": "3.10.2"
  },
  "orig_nbformat": 4,
  "vscode": {
   "interpreter": {
    "hash": "3dff625a210909359697d5eccfe52b0a4de2d1c906f07c6fbc30367896d3d0c0"
   }
  }
 },
 "nbformat": 4,
 "nbformat_minor": 2
}

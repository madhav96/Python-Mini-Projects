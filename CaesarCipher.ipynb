{
 "cells": [
  {
   "cell_type": "code",
   "execution_count": 4,
   "metadata": {},
   "outputs": [
    {
     "name": "stdout",
     "output_type": "stream",
     "text": [
      "Welcome to Caesar Cipher\n",
      "   ooooooooooooooooooooooooooooooooooooo\n",
      "      8                                .d88\n",
      "      8  oooooooooooooooooooooooooooood8888\n",
      "      8  8888888888888888888888888P\"   8888    oooooooooooooooo\n",
      "      8  8888888888888888888888P\"      8888    8              8\n",
      "      8  8888888888888888888P\"         8888    8             d8\n",
      "      8  8888888888888888P\"            8888    8            d88\n",
      "      8  8888888888888P\"               8888    8           d888\n",
      "      8  8888888888P\"                  8888    8          d8888\n",
      "      8  8888888P\"                     8888    8         d88888\n",
      "      8  8888P\"                        8888    8        d888888\n",
      "      8  8888oooooooooooooooooooooocgmm8888    8       d8888888\n",
      "      8 .od88888888888888888888888888888888    8      d88888888\n",
      "      8888888888888888888888888888888888888    8     d888888888\n",
      "                                               8    d8888888888\n",
      "         ooooooooooooooooooooooooooooooo       8   d88888888888\n",
      "        d                       ...oood8b      8  d888888888888\n",
      "       d              ...oood888888888888b     8 d8888888888888\n",
      "      d     ...oood88888888888888888888888b    8d88888888888888\n",
      "     dood8888888888888888888888888888888888b\n",
      "\n"
     ]
    },
    {
     "ename": "ValueError",
     "evalue": "invalid literal for int() with base 10: 'a'",
     "output_type": "error",
     "traceback": [
      "\u001b[1;31m---------------------------------------------------------------------------\u001b[0m",
      "\u001b[1;31mValueError\u001b[0m                                Traceback (most recent call last)",
      "\u001b[1;32mc:\\Users\\CIS\\Downloads\\100 Days of Code The Complete Python Pro Bootcamp for 2022\\[TutsNode.com] - 100 Days of Code The Complete Python Pro Bootcamp for 2022\\Code Practice\\CaesarCipher.ipynb Cell 1\u001b[0m in \u001b[0;36m<module>\u001b[1;34m\u001b[0m\n\u001b[0;32m     <a href='vscode-notebook-cell:/c%3A/Users/CIS/Downloads/100%20Days%20of%20Code%20The%20Complete%20Python%20Pro%20Bootcamp%20for%202022/%5BTutsNode.com%5D%20-%20100%20Days%20of%20Code%20The%20Complete%20Python%20Pro%20Bootcamp%20for%202022/Code%20Practice/CaesarCipher.ipynb#W0sZmlsZQ%3D%3D?line=25'>26</a>\u001b[0m direction \u001b[39m=\u001b[39m \u001b[39minput\u001b[39m(\u001b[39m\"\u001b[39m\u001b[39mType \u001b[39m\u001b[39m'\u001b[39m\u001b[39mencode\u001b[39m\u001b[39m'\u001b[39m\u001b[39m to encrypt, type \u001b[39m\u001b[39m'\u001b[39m\u001b[39mdecode\u001b[39m\u001b[39m'\u001b[39m\u001b[39m decrypt\u001b[39m\u001b[39m\"\u001b[39m)\n\u001b[0;32m     <a href='vscode-notebook-cell:/c%3A/Users/CIS/Downloads/100%20Days%20of%20Code%20The%20Complete%20Python%20Pro%20Bootcamp%20for%202022/%5BTutsNode.com%5D%20-%20100%20Days%20of%20Code%20The%20Complete%20Python%20Pro%20Bootcamp%20for%202022/Code%20Practice/CaesarCipher.ipynb#W0sZmlsZQ%3D%3D?line=26'>27</a>\u001b[0m text \u001b[39m=\u001b[39m \u001b[39minput\u001b[39m(\u001b[39m\"\u001b[39m\u001b[39mEnter the text :\u001b[39m\u001b[39m\"\u001b[39m)\u001b[39m.\u001b[39mlower()\n\u001b[1;32m---> <a href='vscode-notebook-cell:/c%3A/Users/CIS/Downloads/100%20Days%20of%20Code%20The%20Complete%20Python%20Pro%20Bootcamp%20for%202022/%5BTutsNode.com%5D%20-%20100%20Days%20of%20Code%20The%20Complete%20Python%20Pro%20Bootcamp%20for%202022/Code%20Practice/CaesarCipher.ipynb#W0sZmlsZQ%3D%3D?line=27'>28</a>\u001b[0m shift \u001b[39m=\u001b[39m \u001b[39mint\u001b[39;49m(\u001b[39minput\u001b[39;49m(\u001b[39m\"\u001b[39;49m\u001b[39mType the shift Number :\u001b[39;49m\u001b[39m\"\u001b[39;49m))\n\u001b[0;32m     <a href='vscode-notebook-cell:/c%3A/Users/CIS/Downloads/100%20Days%20of%20Code%20The%20Complete%20Python%20Pro%20Bootcamp%20for%202022/%5BTutsNode.com%5D%20-%20100%20Days%20of%20Code%20The%20Complete%20Python%20Pro%20Bootcamp%20for%202022/Code%20Practice/CaesarCipher.ipynb#W0sZmlsZQ%3D%3D?line=30'>31</a>\u001b[0m \u001b[39mdef\u001b[39;00m \u001b[39mcaesar\u001b[39m(direction, text, shift):\n\u001b[0;32m     <a href='vscode-notebook-cell:/c%3A/Users/CIS/Downloads/100%20Days%20of%20Code%20The%20Complete%20Python%20Pro%20Bootcamp%20for%202022/%5BTutsNode.com%5D%20-%20100%20Days%20of%20Code%20The%20Complete%20Python%20Pro%20Bootcamp%20for%202022/Code%20Practice/CaesarCipher.ipynb#W0sZmlsZQ%3D%3D?line=31'>32</a>\u001b[0m     cipher_text\u001b[39m=\u001b[39m\u001b[39m\"\u001b[39m\u001b[39m\"\u001b[39m\n",
      "\u001b[1;31mValueError\u001b[0m: invalid literal for int() with base 10: 'a'"
     ]
    }
   ],
   "source": [
    "print(\"Welcome to Caesar Cipher\")\n",
    "\n",
    "print('''   ooooooooooooooooooooooooooooooooooooo\n",
    "      8                                .d88\n",
    "      8  oooooooooooooooooooooooooooood8888\n",
    "      8  8888888888888888888888888P\"   8888    oooooooooooooooo\n",
    "      8  8888888888888888888888P\"      8888    8              8\n",
    "      8  8888888888888888888P\"         8888    8             d8\n",
    "      8  8888888888888888P\"            8888    8            d88\n",
    "      8  8888888888888P\"               8888    8           d888\n",
    "      8  8888888888P\"                  8888    8          d8888\n",
    "      8  8888888P\"                     8888    8         d88888\n",
    "      8  8888P\"                        8888    8        d888888\n",
    "      8  8888oooooooooooooooooooooocgmm8888    8       d8888888\n",
    "      8 .od88888888888888888888888888888888    8      d88888888\n",
    "      8888888888888888888888888888888888888    8     d888888888\n",
    "                                               8    d8888888888\n",
    "         ooooooooooooooooooooooooooooooo       8   d88888888888\n",
    "        d                       ...oood8b      8  d888888888888\n",
    "       d              ...oood888888888888b     8 d8888888888888\n",
    "      d     ...oood88888888888888888888888b    8d88888888888888\n",
    "     dood8888888888888888888888888888888888b\n",
    "''')\n",
    "\n",
    "letters = ['a', 'b', 'c', 'd', 'e', 'f', 'g', 'h', 'i', 'j', 'k', 'l', 'm', 'n', 'o', 'p', 'q', 'r', 's', 't', 'u', 'v', 'w', 'x', 'y', 'z', 'a', 'b', 'c', 'd', 'e', 'f', 'g', 'h', 'i', 'j', 'k', 'l', 'm', 'n', 'o', 'p', 'q', 'r', 's', 't', 'u', 'v', 'w', 'x', 'y', 'z']\n",
    "direction = input(\"Type 'encode' to encrypt, type 'decode' decrypt\")\n",
    "text = input(\"Enter the text :\").lower()\n",
    "shift = int(input(\"Type the shift Number :\"))\n",
    "\n",
    "\n",
    "def caesar(direction, text, shift):\n",
    "    cipher_text=\"\"\n",
    "    for i in text:\n",
    "        position = letters.index(i)\n",
    "        if direction == \"encode\":\n",
    "            new_position = position + shift\n",
    "        elif direction == \"decode\":\n",
    "            new_position = position - shift\n",
    "        new_letter = letters[new_position]\n",
    "        cipher_text += new_letter\n",
    "    print(f\"Your message is : {cipher_text}\")    \n",
    "\n",
    "caesar(direction, text, shift)\n",
    "\n",
    "#def encrypt(text, shift):\n",
    " #   cipher_text = \"\"\n",
    "  #  for i in text:\n",
    "   #     position = letters.index(i)\n",
    "    #    new_position = position + shift\n",
    "     #   new_letter = letters[new_position]\n",
    "      #  cipher_text += new_letter\n",
    "    #print(f\"Encoded text is : {cipher_text}\")\n",
    "\n",
    "#def decrypt(text, shift):\n",
    " #   cipher_text = \"\"\n",
    "  #  for i in text:\n",
    "   #     position = letters.index(i)\n",
    "    #    new_position = position - shift\n",
    "     #   new_letter = letters[new_position]\n",
    "      #  cipher_text += new_letter\n",
    "   # print(f\"Decoded text is : {cipher_text}\")\n",
    "\n",
    "#if direction == \"encode\":\n",
    " #   encrypt(text,shift)\n",
    "#elif direction == \"decode\":\n",
    " #   decrypt(text,shift)"
   ]
  },
  {
   "cell_type": "code",
   "execution_count": null,
   "metadata": {},
   "outputs": [],
   "source": []
  },
  {
   "cell_type": "code",
   "execution_count": null,
   "metadata": {},
   "outputs": [],
   "source": []
  }
 ],
 "metadata": {
  "kernelspec": {
   "display_name": "minimal_ds",
   "language": "python",
   "name": "python3"
  },
  "language_info": {
   "codemirror_mode": {
    "name": "ipython",
    "version": 3
   },
   "file_extension": ".py",
   "mimetype": "text/x-python",
   "name": "python",
   "nbconvert_exporter": "python",
   "pygments_lexer": "ipython3",
   "version": "3.10.2"
  },
  "orig_nbformat": 4,
  "vscode": {
   "interpreter": {
    "hash": "3dff625a210909359697d5eccfe52b0a4de2d1c906f07c6fbc30367896d3d0c0"
   }
  }
 },
 "nbformat": 4,
 "nbformat_minor": 2
}

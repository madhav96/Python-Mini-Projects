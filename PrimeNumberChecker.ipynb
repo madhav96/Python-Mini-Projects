{
 "cells": [
  {
   "cell_type": "code",
   "execution_count": 10,
   "metadata": {},
   "outputs": [
    {
     "name": "stdout",
     "output_type": "stream",
     "text": [
      "Welcome to prime number checker :\n",
      "You entered : 33\n",
      "Entered number is not Prime\n"
     ]
    }
   ],
   "source": [
    "print(\"Welcome to prime number checker :\")\n",
    "number =  int(input(\"Enter the number you want to check for prime number\"))\n",
    "print(f\"You entered : {number}\")\n",
    "\n",
    "def check_prime(number):\n",
    "    is_prime = True\n",
    "    for x in range (2,number):\n",
    "        if number%x == 0:\n",
    "            is_prime = False\n",
    "    \n",
    "    if is_prime == False:\n",
    "        print(\"Entered number is not Prime\")\n",
    "    else:\n",
    "        print(\"Entered number is Prime\")\n",
    "\n",
    "check_prime(number)\n"
   ]
  },
  {
   "cell_type": "code",
   "execution_count": null,
   "metadata": {},
   "outputs": [],
   "source": []
  }
 ],
 "metadata": {
  "kernelspec": {
   "display_name": "minimal_ds",
   "language": "python",
   "name": "python3"
  },
  "language_info": {
   "codemirror_mode": {
    "name": "ipython",
    "version": 3
   },
   "file_extension": ".py",
   "mimetype": "text/x-python",
   "name": "python",
   "nbconvert_exporter": "python",
   "pygments_lexer": "ipython3",
   "version": "3.10.2"
  },
  "orig_nbformat": 4,
  "vscode": {
   "interpreter": {
    "hash": "3dff625a210909359697d5eccfe52b0a4de2d1c906f07c6fbc30367896d3d0c0"
   }
  }
 },
 "nbformat": 4,
 "nbformat_minor": 2
}

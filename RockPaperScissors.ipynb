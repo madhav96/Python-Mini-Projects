{
 "cells": [
  {
   "cell_type": "code",
   "execution_count": 1,
   "metadata": {},
   "outputs": [],
   "source": [
    "import random as rn\n"
   ]
  },
  {
   "cell_type": "code",
   "execution_count": null,
   "metadata": {},
   "outputs": [],
   "source": [
    "rock =\"\"\"\n",
    "    _______\n",
    "---'   ____)\n",
    "      (_____)\n",
    "      (_____)\n",
    "      (____)\n",
    "---.__(___)\n",
    "\"\"\"\n",
    "\n",
    "paper =\"\"\"\n",
    "     _______\n",
    "---'    ____)____\n",
    "           ______)\n",
    "          _______)\n",
    "         _______)\n",
    "---.__________)\n",
    "\"\"\"\n",
    "\n",
    "scissors =\"\"\"\n",
    "    _______\n",
    "---'   ____)____\n",
    "          ______)\n",
    "       __________)\n",
    "      (____)\n",
    "---.__(___)\n",
    "\"\"\"\n",
    "\n",
    "hands = [rock, paper, scissors]\n",
    "print(\"Welcome to Rock Paper Scissors! \\n What will you chose? \\n Press 0 for Rock, 1 for Paper or 2 for Scissors\")\n",
    "print(\"\\n Player's Choice:\")\n",
    "\n",
    "player = int(input(\"Press here\"))\n",
    "if player >= 3 or player < 0:\n",
    "    print(\"You chose an invalid number, You Lose\")\n",
    "else:    \n",
    "    print(hands[player])\n",
    "\n",
    "    cpu = rn.randint(0,2)\n",
    "    print(\"Computer's Choice: \")\n",
    "    print(hands[cpu])\n",
    "    if player == 0 and cpu == 2:\n",
    "        \n",
    "        print(\"You win\")\n",
    "    elif cpu == 0 and player ==2:\n",
    "        print(\"You Lose\")\n",
    "    elif cpu>player:\n",
    "        print(\"You Lose\")\n",
    "    elif player>cpu:\n",
    "        print(\"You Win\")\n",
    "    elif cpu == player:\n",
    "        print(\"Match is a draw\")    \n"
   ]
  },
  {
   "cell_type": "code",
   "execution_count": null,
   "metadata": {},
   "outputs": [],
   "source": []
  },
  {
   "cell_type": "code",
   "execution_count": null,
   "metadata": {},
   "outputs": [],
   "source": []
  }
 ],
 "metadata": {
  "kernelspec": {
   "display_name": "minimal_ds",
   "language": "python",
   "name": "python3"
  },
  "language_info": {
   "codemirror_mode": {
    "name": "ipython",
    "version": 3
   },
   "file_extension": ".py",
   "mimetype": "text/x-python",
   "name": "python",
   "nbconvert_exporter": "python",
   "pygments_lexer": "ipython3",
   "version": "3.10.2"
  },
  "orig_nbformat": 4,
  "vscode": {
   "interpreter": {
    "hash": "3dff625a210909359697d5eccfe52b0a4de2d1c906f07c6fbc30367896d3d0c0"
   }
  }
 },
 "nbformat": 4,
 "nbformat_minor": 2
}

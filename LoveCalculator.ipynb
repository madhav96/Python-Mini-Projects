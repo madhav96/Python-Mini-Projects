{
 "cells": [
  {
   "cell_type": "code",
   "execution_count": null,
   "metadata": {},
   "outputs": [],
   "source": []
  },
  {
   "cell_type": "code",
   "execution_count": null,
   "metadata": {},
   "outputs": [],
   "source": [
    "print (\"Welcome to Love Calculator:\")\n",
    "\n",
    "name1 = input(\"Enter name 1 :\").lower()\n",
    "name2 = input(\"Enter name 2 :\").lower()\n",
    "combine_name =  name1 + name2\n",
    "\n",
    "t = combine_name.count(\"t\")\n",
    "r = combine_name.count(\"r\")\n",
    "u = combine_name.count(\"u\")\n",
    "e = combine_name.count(\"e\")\n",
    "\n",
    "true = t + r + u + e\n",
    "\n",
    "l = combine_name.count(\"l\")\n",
    "o = combine_name.count(\"o\")\n",
    "v = combine_name.count(\"v\")\n",
    "e = combine_name.count(\"e\")\n",
    "\n",
    "\n",
    "love = l + o + v + e\n",
    "\n",
    "love_score = str(true) + str(love)\n",
    "print(f\"Your love score is {love_score}\")"
   ]
  },
  {
   "cell_type": "code",
   "execution_count": null,
   "metadata": {},
   "outputs": [],
   "source": []
  }
 ],
 "metadata": {
  "kernelspec": {
   "display_name": "minimal_ds",
   "language": "python",
   "name": "python3"
  },
  "language_info": {
   "codemirror_mode": {
    "name": "ipython",
    "version": 3
   },
   "file_extension": ".py",
   "mimetype": "text/x-python",
   "name": "python",
   "nbconvert_exporter": "python",
   "pygments_lexer": "ipython3",
   "version": "3.10.2"
  },
  "orig_nbformat": 4,
  "vscode": {
   "interpreter": {
    "hash": "3dff625a210909359697d5eccfe52b0a4de2d1c906f07c6fbc30367896d3d0c0"
   }
  }
 },
 "nbformat": 4,
 "nbformat_minor": 2
}

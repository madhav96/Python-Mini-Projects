{
 "cells": [
  {
   "cell_type": "code",
   "execution_count": 1,
   "metadata": {},
   "outputs": [
    {
     "name": "stdout",
     "output_type": "stream",
     "text": [
      "Welcome to rollercoaster\n",
      "You can ride the rollercoaster\n",
      "Your final bill is 15$\n"
     ]
    }
   ],
   "source": [
    "# This code helps identify the persons age and height and then generates bill according to their ticket preference.\n",
    "\n",
    "print(\"Welcome to rollercoaster\")\n",
    "height = int (input (\"Please enter your height in cm : \"))\n",
    "age = int(input (\"Please enter your age here: \"))\n",
    "\n",
    "if height>120:\n",
    "    print(\"You can ride the rollercoaster\")\n",
    "    if age < 12:\n",
    "        bill = 5\n",
    "    elif age <=18:\n",
    "        bill =7 \n",
    "    else:\n",
    "        bill = 12\n",
    "    wants_photo = input(\"Do you want a photograph taken? Y or N\")\n",
    "\n",
    "    if wants_photo == \"Y\":\n",
    "        bill = bill + 3\n",
    "        print(f\"Your final bill is {bill}$\")\n",
    "    else:\n",
    "        print(f\"Your final bill is {bill}$\")\n",
    "else:\n",
    "    print(\"Sorry you cannot ride the rollercoaster, you are not tall enough\")\n"
   ]
  },
  {
   "cell_type": "code",
   "execution_count": null,
   "metadata": {},
   "outputs": [],
   "source": []
  }
 ],
 "metadata": {
  "kernelspec": {
   "display_name": "minimal_ds",
   "language": "python",
   "name": "python3"
  },
  "language_info": {
   "codemirror_mode": {
    "name": "ipython",
    "version": 3
   },
   "file_extension": ".py",
   "mimetype": "text/x-python",
   "name": "python",
   "nbconvert_exporter": "python",
   "pygments_lexer": "ipython3",
   "version": "3.10.2"
  },
  "orig_nbformat": 4,
  "vscode": {
   "interpreter": {
    "hash": "3dff625a210909359697d5eccfe52b0a4de2d1c906f07c6fbc30367896d3d0c0"
   }
  }
 },
 "nbformat": 4,
 "nbformat_minor": 2
}

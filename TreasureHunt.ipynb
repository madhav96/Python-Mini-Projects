{
 "cells": [
  {
   "cell_type": "code",
   "execution_count": 14,
   "metadata": {},
   "outputs": [
    {
     "name": "stdout",
     "output_type": "stream",
     "text": [
      "888                                                          \n",
      "888                                                          \n",
      "888                                                          \n",
      "888888888d888 .d88b.  8888b. .d8888b 888  888888d888 .d88b.  \n",
      "888   888P\"  d8P  Y8b    \"88b88K     888  888888P\"  d8P  Y8b \n",
      "888   888    88888888.d888888\"Y8888b.888  888888    88888888 \n",
      "Y88b. 888    Y8b.    888  888     X88Y88b 888888    Y8b.     \n",
      " \"Y888888     \"Y8888 \"Y888888 88888P' \"Y88888888     \"Y8888  \n",
      "\n",
      " Welcome to Treasure Hunt \n",
      " Your Mission is to find the Treasure\n",
      "You moved ahead!\n",
      "Nice move, You have reached the island \n",
      " There are 3 doors in front of you \n",
      " Red, Blue and Yellow color door\n",
      "Congratulations! you won. The Treasure is your.\n"
     ]
    }
   ],
   "source": [
    "print('''888                                                          \n",
    "888                                                          \n",
    "888                                                          \n",
    "888888888d888 .d88b.  8888b. .d8888b 888  888888d888 .d88b.  \n",
    "888   888P\"  d8P  Y8b    \"88b88K     888  888888P\"  d8P  Y8b \n",
    "888   888    88888888.d888888\"Y8888b.888  888888    88888888 \n",
    "Y88b. 888    Y8b.    888  888     X88Y88b 888888    Y8b.     \n",
    " \"Y888888     \"Y8888 \"Y888888 88888P' \"Y88888888     \"Y8888  ''')\n",
    " \n",
    "\n",
    "print(\"\\n Welcome to Treasure Hunt \\n Your Mission is to find the Treasure\")\n",
    "\n",
    "dir = input(\"Which Direction will you go, LEFT or RIGHT, (L or R)\")\n",
    "\n",
    "if dir == \"L\":\n",
    "    print(\"You moved ahead!\")\n",
    "    move2 =  input(\"You see an island ahead, wait here for a boat or swim to reach there? (wait or swim)\")\n",
    "\n",
    "    if move2 ==\"wait\":\n",
    "        print(\"Nice move, You have reached the island \\n There are 3 doors in front of you \\n Red, Blue and Yellow color door\")\n",
    "        move3 = input(\"Which door will you chose? (R,B or Y) \")\n",
    "        \n",
    "        if move3 == \"Y\":\n",
    "            print(\"Congratulations! you won. The Treasure is yours.\")\n",
    "        elif move3 == \"R\":\n",
    "            print(\"Wrong Move, you were burned by fire, Game over\")\n",
    "        elif move3 == \"B\":\n",
    "            print(\"Wrong Move, you were eaten by a beast, Game Over\")\n",
    "        else:\n",
    "            print(\"Wrong move, Game Over\")\n",
    "    else:\n",
    "        print(\"Wrong move, you were eaten by a croc, Game Over\")\n",
    "else:\n",
    "    print(\"Wrong move, Game Over\")"
   ]
  },
  {
   "cell_type": "code",
   "execution_count": null,
   "metadata": {},
   "outputs": [],
   "source": []
  }
 ],
 "metadata": {
  "kernelspec": {
   "display_name": "minimal_ds",
   "language": "python",
   "name": "python3"
  },
  "language_info": {
   "codemirror_mode": {
    "name": "ipython",
    "version": 3
   },
   "file_extension": ".py",
   "mimetype": "text/x-python",
   "name": "python",
   "nbconvert_exporter": "python",
   "pygments_lexer": "ipython3",
   "version": "3.10.2 | packaged by conda-forge | (main, Jan 30 2022, 10:19:47) [MSC v.1929 64 bit (AMD64)]"
  },
  "orig_nbformat": 4,
  "vscode": {
   "interpreter": {
    "hash": "3dff625a210909359697d5eccfe52b0a4de2d1c906f07c6fbc30367896d3d0c0"
   }
  }
 },
 "nbformat": 4,
 "nbformat_minor": 2
}
